{
  "nbformat": 4,
  "nbformat_minor": 0,
  "metadata": {
    "colab": {
      "provenance": [],
      "authorship_tag": "ABX9TyOK3zucrk5c4e4iye3q2CwV",
      "include_colab_link": true
    },
    "kernelspec": {
      "name": "python3",
      "display_name": "Python 3"
    },
    "language_info": {
      "name": "python"
    }
  },
  "cells": [
    {
      "cell_type": "markdown",
      "metadata": {
        "id": "view-in-github",
        "colab_type": "text"
      },
      "source": [
        "<a href=\"https://colab.research.google.com/github/BrianKipngeno/Spine-data-classification-with-Neural-Networks/blob/main/Spine_classification_with_Neural_networks_.ipynb\" target=\"_parent\"><img src=\"https://colab.research.google.com/assets/colab-badge.svg\" alt=\"Open In Colab\"/></a>"
      ]
    },
    {
      "cell_type": "markdown",
      "source": [
        "I will use the following dataset to classify a persons spine as either normal or abnormal. Moreover I will use the model to classify the observations below from a random spine data to make a classification.\n",
        "\n",
        "(56.12492019, 23.64048856, 38.32974793 26.47443163, 121.456011, 1.653204816, 0.85687869, 13.6686, 12.57, 17.12951, -16.630363, 27.1902 )\n",
        "\n",
        "Dataset URL: http://bit.ly/spine_data"
      ],
      "metadata": {
        "id": "3GwQd9em5Iot"
      }
    },
    {
      "cell_type": "markdown",
      "source": [
        "### Step 1: Data preparation"
      ],
      "metadata": {
        "id": "jjs59B345mda"
      }
    },
    {
      "cell_type": "code",
      "execution_count": 4,
      "metadata": {
        "id": "BpeL2Xy040od"
      },
      "outputs": [],
      "source": [
        "# Importing necessary libraries\n",
        "import numpy as np\n",
        "import pandas as pd\n",
        "import torch\n",
        "import seaborn as sns\n",
        "import matplotlib.pyplot as plt"
      ]
    },
    {
      "cell_type": "code",
      "source": [
        "# Loading the dataset\n",
        "df = pd.read_csv(\"http://bit.ly/spine_data\")\n",
        "\n",
        "print(df.shape)\n",
        "\n",
        "df.head()"
      ],
      "metadata": {
        "colab": {
          "base_uri": "https://localhost:8080/",
          "height": 225
        },
        "id": "bzzPZOzK5tkM",
        "outputId": "214352c9-ae26-43dd-ee0c-f3a04068c912"
      },
      "execution_count": 5,
      "outputs": [
        {
          "output_type": "stream",
          "name": "stdout",
          "text": [
            "(310, 14)\n"
          ]
        },
        {
          "output_type": "execute_result",
          "data": {
            "text/plain": [
              "        Col1       Col2       Col3       Col4        Col5       Col6  \\\n",
              "0  63.027817  22.552586  39.609117  40.475232   98.672917  -0.254400   \n",
              "1  39.056951  10.060991  25.015378  28.995960  114.405425   4.564259   \n",
              "2  68.832021  22.218482  50.092194  46.613539  105.985135  -3.530317   \n",
              "3  69.297008  24.652878  44.311238  44.644130  101.868495  11.211523   \n",
              "4  49.712859   9.652075  28.317406  40.060784  108.168725   7.918501   \n",
              "\n",
              "       Col7     Col8     Col9     Col10      Col11    Col12 Class_att  \\\n",
              "0  0.744503  12.5661  14.5386  15.30468 -28.658501  43.5123  Abnormal   \n",
              "1  0.415186  12.8874  17.5323  16.78486 -25.530607  16.1102  Abnormal   \n",
              "2  0.474889  26.8343  17.4861  16.65897 -29.031888  19.2221  Abnormal   \n",
              "3  0.369345  23.5603  12.7074  11.42447 -30.470246  18.8329  Abnormal   \n",
              "4  0.543360  35.4940  15.9546   8.87237 -16.378376  24.9171  Abnormal   \n",
              "\n",
              "                                         Unnamed: 13  \n",
              "0                                                NaN  \n",
              "1                                                NaN  \n",
              "2  Prediction is done by using binary classificat...  \n",
              "3                                                NaN  \n",
              "4                                                NaN  "
            ],
            "text/html": [
              "\n",
              "  <div id=\"df-85f50ee4-c62d-4478-b149-cf37be79fd76\" class=\"colab-df-container\">\n",
              "    <div>\n",
              "<style scoped>\n",
              "    .dataframe tbody tr th:only-of-type {\n",
              "        vertical-align: middle;\n",
              "    }\n",
              "\n",
              "    .dataframe tbody tr th {\n",
              "        vertical-align: top;\n",
              "    }\n",
              "\n",
              "    .dataframe thead th {\n",
              "        text-align: right;\n",
              "    }\n",
              "</style>\n",
              "<table border=\"1\" class=\"dataframe\">\n",
              "  <thead>\n",
              "    <tr style=\"text-align: right;\">\n",
              "      <th></th>\n",
              "      <th>Col1</th>\n",
              "      <th>Col2</th>\n",
              "      <th>Col3</th>\n",
              "      <th>Col4</th>\n",
              "      <th>Col5</th>\n",
              "      <th>Col6</th>\n",
              "      <th>Col7</th>\n",
              "      <th>Col8</th>\n",
              "      <th>Col9</th>\n",
              "      <th>Col10</th>\n",
              "      <th>Col11</th>\n",
              "      <th>Col12</th>\n",
              "      <th>Class_att</th>\n",
              "      <th>Unnamed: 13</th>\n",
              "    </tr>\n",
              "  </thead>\n",
              "  <tbody>\n",
              "    <tr>\n",
              "      <th>0</th>\n",
              "      <td>63.027817</td>\n",
              "      <td>22.552586</td>\n",
              "      <td>39.609117</td>\n",
              "      <td>40.475232</td>\n",
              "      <td>98.672917</td>\n",
              "      <td>-0.254400</td>\n",
              "      <td>0.744503</td>\n",
              "      <td>12.5661</td>\n",
              "      <td>14.5386</td>\n",
              "      <td>15.30468</td>\n",
              "      <td>-28.658501</td>\n",
              "      <td>43.5123</td>\n",
              "      <td>Abnormal</td>\n",
              "      <td>NaN</td>\n",
              "    </tr>\n",
              "    <tr>\n",
              "      <th>1</th>\n",
              "      <td>39.056951</td>\n",
              "      <td>10.060991</td>\n",
              "      <td>25.015378</td>\n",
              "      <td>28.995960</td>\n",
              "      <td>114.405425</td>\n",
              "      <td>4.564259</td>\n",
              "      <td>0.415186</td>\n",
              "      <td>12.8874</td>\n",
              "      <td>17.5323</td>\n",
              "      <td>16.78486</td>\n",
              "      <td>-25.530607</td>\n",
              "      <td>16.1102</td>\n",
              "      <td>Abnormal</td>\n",
              "      <td>NaN</td>\n",
              "    </tr>\n",
              "    <tr>\n",
              "      <th>2</th>\n",
              "      <td>68.832021</td>\n",
              "      <td>22.218482</td>\n",
              "      <td>50.092194</td>\n",
              "      <td>46.613539</td>\n",
              "      <td>105.985135</td>\n",
              "      <td>-3.530317</td>\n",
              "      <td>0.474889</td>\n",
              "      <td>26.8343</td>\n",
              "      <td>17.4861</td>\n",
              "      <td>16.65897</td>\n",
              "      <td>-29.031888</td>\n",
              "      <td>19.2221</td>\n",
              "      <td>Abnormal</td>\n",
              "      <td>Prediction is done by using binary classificat...</td>\n",
              "    </tr>\n",
              "    <tr>\n",
              "      <th>3</th>\n",
              "      <td>69.297008</td>\n",
              "      <td>24.652878</td>\n",
              "      <td>44.311238</td>\n",
              "      <td>44.644130</td>\n",
              "      <td>101.868495</td>\n",
              "      <td>11.211523</td>\n",
              "      <td>0.369345</td>\n",
              "      <td>23.5603</td>\n",
              "      <td>12.7074</td>\n",
              "      <td>11.42447</td>\n",
              "      <td>-30.470246</td>\n",
              "      <td>18.8329</td>\n",
              "      <td>Abnormal</td>\n",
              "      <td>NaN</td>\n",
              "    </tr>\n",
              "    <tr>\n",
              "      <th>4</th>\n",
              "      <td>49.712859</td>\n",
              "      <td>9.652075</td>\n",
              "      <td>28.317406</td>\n",
              "      <td>40.060784</td>\n",
              "      <td>108.168725</td>\n",
              "      <td>7.918501</td>\n",
              "      <td>0.543360</td>\n",
              "      <td>35.4940</td>\n",
              "      <td>15.9546</td>\n",
              "      <td>8.87237</td>\n",
              "      <td>-16.378376</td>\n",
              "      <td>24.9171</td>\n",
              "      <td>Abnormal</td>\n",
              "      <td>NaN</td>\n",
              "    </tr>\n",
              "  </tbody>\n",
              "</table>\n",
              "</div>\n",
              "    <div class=\"colab-df-buttons\">\n",
              "\n",
              "  <div class=\"colab-df-container\">\n",
              "    <button class=\"colab-df-convert\" onclick=\"convertToInteractive('df-85f50ee4-c62d-4478-b149-cf37be79fd76')\"\n",
              "            title=\"Convert this dataframe to an interactive table.\"\n",
              "            style=\"display:none;\">\n",
              "\n",
              "  <svg xmlns=\"http://www.w3.org/2000/svg\" height=\"24px\" viewBox=\"0 -960 960 960\">\n",
              "    <path d=\"M120-120v-720h720v720H120Zm60-500h600v-160H180v160Zm220 220h160v-160H400v160Zm0 220h160v-160H400v160ZM180-400h160v-160H180v160Zm440 0h160v-160H620v160ZM180-180h160v-160H180v160Zm440 0h160v-160H620v160Z\"/>\n",
              "  </svg>\n",
              "    </button>\n",
              "\n",
              "  <style>\n",
              "    .colab-df-container {\n",
              "      display:flex;\n",
              "      gap: 12px;\n",
              "    }\n",
              "\n",
              "    .colab-df-convert {\n",
              "      background-color: #E8F0FE;\n",
              "      border: none;\n",
              "      border-radius: 50%;\n",
              "      cursor: pointer;\n",
              "      display: none;\n",
              "      fill: #1967D2;\n",
              "      height: 32px;\n",
              "      padding: 0 0 0 0;\n",
              "      width: 32px;\n",
              "    }\n",
              "\n",
              "    .colab-df-convert:hover {\n",
              "      background-color: #E2EBFA;\n",
              "      box-shadow: 0px 1px 2px rgba(60, 64, 67, 0.3), 0px 1px 3px 1px rgba(60, 64, 67, 0.15);\n",
              "      fill: #174EA6;\n",
              "    }\n",
              "\n",
              "    .colab-df-buttons div {\n",
              "      margin-bottom: 4px;\n",
              "    }\n",
              "\n",
              "    [theme=dark] .colab-df-convert {\n",
              "      background-color: #3B4455;\n",
              "      fill: #D2E3FC;\n",
              "    }\n",
              "\n",
              "    [theme=dark] .colab-df-convert:hover {\n",
              "      background-color: #434B5C;\n",
              "      box-shadow: 0px 1px 3px 1px rgba(0, 0, 0, 0.15);\n",
              "      filter: drop-shadow(0px 1px 2px rgba(0, 0, 0, 0.3));\n",
              "      fill: #FFFFFF;\n",
              "    }\n",
              "  </style>\n",
              "\n",
              "    <script>\n",
              "      const buttonEl =\n",
              "        document.querySelector('#df-85f50ee4-c62d-4478-b149-cf37be79fd76 button.colab-df-convert');\n",
              "      buttonEl.style.display =\n",
              "        google.colab.kernel.accessAllowed ? 'block' : 'none';\n",
              "\n",
              "      async function convertToInteractive(key) {\n",
              "        const element = document.querySelector('#df-85f50ee4-c62d-4478-b149-cf37be79fd76');\n",
              "        const dataTable =\n",
              "          await google.colab.kernel.invokeFunction('convertToInteractive',\n",
              "                                                    [key], {});\n",
              "        if (!dataTable) return;\n",
              "\n",
              "        const docLinkHtml = 'Like what you see? Visit the ' +\n",
              "          '<a target=\"_blank\" href=https://colab.research.google.com/notebooks/data_table.ipynb>data table notebook</a>'\n",
              "          + ' to learn more about interactive tables.';\n",
              "        element.innerHTML = '';\n",
              "        dataTable['output_type'] = 'display_data';\n",
              "        await google.colab.output.renderOutput(dataTable, element);\n",
              "        const docLink = document.createElement('div');\n",
              "        docLink.innerHTML = docLinkHtml;\n",
              "        element.appendChild(docLink);\n",
              "      }\n",
              "    </script>\n",
              "  </div>\n",
              "\n",
              "\n",
              "<div id=\"df-bb5bbc06-45b1-4e6a-ac3a-58d466b47674\">\n",
              "  <button class=\"colab-df-quickchart\" onclick=\"quickchart('df-bb5bbc06-45b1-4e6a-ac3a-58d466b47674')\"\n",
              "            title=\"Suggest charts\"\n",
              "            style=\"display:none;\">\n",
              "\n",
              "<svg xmlns=\"http://www.w3.org/2000/svg\" height=\"24px\"viewBox=\"0 0 24 24\"\n",
              "     width=\"24px\">\n",
              "    <g>\n",
              "        <path d=\"M19 3H5c-1.1 0-2 .9-2 2v14c0 1.1.9 2 2 2h14c1.1 0 2-.9 2-2V5c0-1.1-.9-2-2-2zM9 17H7v-7h2v7zm4 0h-2V7h2v10zm4 0h-2v-4h2v4z\"/>\n",
              "    </g>\n",
              "</svg>\n",
              "  </button>\n",
              "\n",
              "<style>\n",
              "  .colab-df-quickchart {\n",
              "      --bg-color: #E8F0FE;\n",
              "      --fill-color: #1967D2;\n",
              "      --hover-bg-color: #E2EBFA;\n",
              "      --hover-fill-color: #174EA6;\n",
              "      --disabled-fill-color: #AAA;\n",
              "      --disabled-bg-color: #DDD;\n",
              "  }\n",
              "\n",
              "  [theme=dark] .colab-df-quickchart {\n",
              "      --bg-color: #3B4455;\n",
              "      --fill-color: #D2E3FC;\n",
              "      --hover-bg-color: #434B5C;\n",
              "      --hover-fill-color: #FFFFFF;\n",
              "      --disabled-bg-color: #3B4455;\n",
              "      --disabled-fill-color: #666;\n",
              "  }\n",
              "\n",
              "  .colab-df-quickchart {\n",
              "    background-color: var(--bg-color);\n",
              "    border: none;\n",
              "    border-radius: 50%;\n",
              "    cursor: pointer;\n",
              "    display: none;\n",
              "    fill: var(--fill-color);\n",
              "    height: 32px;\n",
              "    padding: 0;\n",
              "    width: 32px;\n",
              "  }\n",
              "\n",
              "  .colab-df-quickchart:hover {\n",
              "    background-color: var(--hover-bg-color);\n",
              "    box-shadow: 0 1px 2px rgba(60, 64, 67, 0.3), 0 1px 3px 1px rgba(60, 64, 67, 0.15);\n",
              "    fill: var(--button-hover-fill-color);\n",
              "  }\n",
              "\n",
              "  .colab-df-quickchart-complete:disabled,\n",
              "  .colab-df-quickchart-complete:disabled:hover {\n",
              "    background-color: var(--disabled-bg-color);\n",
              "    fill: var(--disabled-fill-color);\n",
              "    box-shadow: none;\n",
              "  }\n",
              "\n",
              "  .colab-df-spinner {\n",
              "    border: 2px solid var(--fill-color);\n",
              "    border-color: transparent;\n",
              "    border-bottom-color: var(--fill-color);\n",
              "    animation:\n",
              "      spin 1s steps(1) infinite;\n",
              "  }\n",
              "\n",
              "  @keyframes spin {\n",
              "    0% {\n",
              "      border-color: transparent;\n",
              "      border-bottom-color: var(--fill-color);\n",
              "      border-left-color: var(--fill-color);\n",
              "    }\n",
              "    20% {\n",
              "      border-color: transparent;\n",
              "      border-left-color: var(--fill-color);\n",
              "      border-top-color: var(--fill-color);\n",
              "    }\n",
              "    30% {\n",
              "      border-color: transparent;\n",
              "      border-left-color: var(--fill-color);\n",
              "      border-top-color: var(--fill-color);\n",
              "      border-right-color: var(--fill-color);\n",
              "    }\n",
              "    40% {\n",
              "      border-color: transparent;\n",
              "      border-right-color: var(--fill-color);\n",
              "      border-top-color: var(--fill-color);\n",
              "    }\n",
              "    60% {\n",
              "      border-color: transparent;\n",
              "      border-right-color: var(--fill-color);\n",
              "    }\n",
              "    80% {\n",
              "      border-color: transparent;\n",
              "      border-right-color: var(--fill-color);\n",
              "      border-bottom-color: var(--fill-color);\n",
              "    }\n",
              "    90% {\n",
              "      border-color: transparent;\n",
              "      border-bottom-color: var(--fill-color);\n",
              "    }\n",
              "  }\n",
              "</style>\n",
              "\n",
              "  <script>\n",
              "    async function quickchart(key) {\n",
              "      const quickchartButtonEl =\n",
              "        document.querySelector('#' + key + ' button');\n",
              "      quickchartButtonEl.disabled = true;  // To prevent multiple clicks.\n",
              "      quickchartButtonEl.classList.add('colab-df-spinner');\n",
              "      try {\n",
              "        const charts = await google.colab.kernel.invokeFunction(\n",
              "            'suggestCharts', [key], {});\n",
              "      } catch (error) {\n",
              "        console.error('Error during call to suggestCharts:', error);\n",
              "      }\n",
              "      quickchartButtonEl.classList.remove('colab-df-spinner');\n",
              "      quickchartButtonEl.classList.add('colab-df-quickchart-complete');\n",
              "    }\n",
              "    (() => {\n",
              "      let quickchartButtonEl =\n",
              "        document.querySelector('#df-bb5bbc06-45b1-4e6a-ac3a-58d466b47674 button');\n",
              "      quickchartButtonEl.style.display =\n",
              "        google.colab.kernel.accessAllowed ? 'block' : 'none';\n",
              "    })();\n",
              "  </script>\n",
              "</div>\n",
              "\n",
              "    </div>\n",
              "  </div>\n"
            ],
            "application/vnd.google.colaboratory.intrinsic+json": {
              "type": "dataframe",
              "variable_name": "df",
              "summary": "{\n  \"name\": \"df\",\n  \"rows\": 310,\n  \"fields\": [\n    {\n      \"column\": \"Col1\",\n      \"properties\": {\n        \"dtype\": \"number\",\n        \"std\": 17.23652032170886,\n        \"min\": 26.14792141,\n        \"max\": 129.8340406,\n        \"num_unique_values\": 310,\n        \"samples\": [\n          44.43070103,\n          36.68635286,\n          46.85578065\n        ],\n        \"semantic_type\": \"\",\n        \"description\": \"\"\n      }\n    },\n    {\n      \"column\": \"Col2\",\n      \"properties\": {\n        \"dtype\": \"number\",\n        \"std\": 10.008330258206358,\n        \"min\": -6.554948347,\n        \"max\": 49.4318636,\n        \"num_unique_values\": 310,\n        \"samples\": [\n          14.17426387,\n          5.010884121,\n          15.35151393\n        ],\n        \"semantic_type\": \"\",\n        \"description\": \"\"\n      }\n    },\n    {\n      \"column\": \"Col3\",\n      \"properties\": {\n        \"dtype\": \"number\",\n        \"std\": 18.554063962761177,\n        \"min\": 14.0,\n        \"max\": 125.7423855,\n        \"num_unique_values\": 280,\n        \"samples\": [\n          46.56025198,\n          48.49999999,\n          53.73007172\n        ],\n        \"semantic_type\": \"\",\n        \"description\": \"\"\n      }\n    },\n    {\n      \"column\": \"Col4\",\n      \"properties\": {\n        \"dtype\": \"number\",\n        \"std\": 13.423102164839573,\n        \"min\": 13.3669307,\n        \"max\": 121.4295656,\n        \"num_unique_values\": 281,\n        \"samples\": [\n          27.59729587,\n          43.15238973,\n          42.43622979\n        ],\n        \"semantic_type\": \"\",\n        \"description\": \"\"\n      }\n    },\n    {\n      \"column\": \"Col5\",\n      \"properties\": {\n        \"dtype\": \"number\",\n        \"std\": 13.317377044904573,\n        \"min\": 70.08257486,\n        \"max\": 163.0710405,\n        \"num_unique_values\": 310,\n        \"samples\": [\n          131.7176127,\n          84.24141517,\n          116.2509174\n        ],\n        \"semantic_type\": \"\",\n        \"description\": \"\"\n      }\n    },\n    {\n      \"column\": \"Col6\",\n      \"properties\": {\n        \"dtype\": \"number\",\n        \"std\": 37.55902655487236,\n        \"min\": -11.05817866,\n        \"max\": 418.5430821,\n        \"num_unique_values\": 310,\n        \"samples\": [\n          -3.604255336,\n          0.664437117,\n          1.662705589\n        ],\n        \"semantic_type\": \"\",\n        \"description\": \"\"\n      }\n    },\n    {\n      \"column\": \"Col7\",\n      \"properties\": {\n        \"dtype\": \"number\",\n        \"std\": 0.28578674082869,\n        \"min\": 0.003220264,\n        \"max\": 0.998826684,\n        \"num_unique_values\": 310,\n        \"samples\": [\n          0.126792054,\n          0.367700139,\n          0.121465407\n        ],\n        \"semantic_type\": \"\",\n        \"description\": \"\"\n      }\n    },\n    {\n      \"column\": \"Col8\",\n      \"properties\": {\n        \"dtype\": \"number\",\n        \"std\": 8.639423372673226,\n        \"min\": 7.027,\n        \"max\": 36.7439,\n        \"num_unique_values\": 310,\n        \"samples\": [\n          15.1269,\n          26.2011,\n          30.283\n        ],\n        \"semantic_type\": \"\",\n        \"description\": \"\"\n      }\n    },\n    {\n      \"column\": \"Col9\",\n      \"properties\": {\n        \"dtype\": \"number\",\n        \"std\": 3.3997128499770826,\n        \"min\": 7.0378,\n        \"max\": 19.324,\n        \"num_unique_values\": 310,\n        \"samples\": [\n          7.9912,\n          8.738,\n          14.6233\n        ],\n        \"semantic_type\": \"\",\n        \"description\": \"\"\n      }\n    },\n    {\n      \"column\": \"Col10\",\n      \"properties\": {\n        \"dtype\": \"number\",\n        \"std\": 2.893265303802674,\n        \"min\": 7.0306,\n        \"max\": 16.82108,\n        \"num_unique_values\": 310,\n        \"samples\": [\n          12.23055,\n          14.91416,\n          8.75046\n        ],\n        \"semantic_type\": \"\",\n        \"description\": \"\"\n      }\n    },\n    {\n      \"column\": \"Col11\",\n      \"properties\": {\n        \"dtype\": \"number\",\n        \"std\": 12.225582016950819,\n        \"min\": -35.287375,\n        \"max\": 6.972071,\n        \"num_unique_values\": 310,\n        \"samples\": [\n          -26.340144,\n          -1.702097,\n          4.334375\n        ],\n        \"semantic_type\": \"\",\n        \"description\": \"\"\n      }\n    },\n    {\n      \"column\": \"Col12\",\n      \"properties\": {\n        \"dtype\": \"number\",\n        \"std\": 10.450558176100039,\n        \"min\": 7.0079,\n        \"max\": 44.3412,\n        \"num_unique_values\": 310,\n        \"samples\": [\n          32.3929,\n          21.432,\n          16.8302\n        ],\n        \"semantic_type\": \"\",\n        \"description\": \"\"\n      }\n    },\n    {\n      \"column\": \"Class_att\",\n      \"properties\": {\n        \"dtype\": \"category\",\n        \"num_unique_values\": 2,\n        \"samples\": [\n          \"Normal\",\n          \"Abnormal\"\n        ],\n        \"semantic_type\": \"\",\n        \"description\": \"\"\n      }\n    },\n    {\n      \"column\": \"Unnamed: 13\",\n      \"properties\": {\n        \"dtype\": \"category\",\n        \"num_unique_values\": 14,\n        \"samples\": [\n          \" Attribute9= thoracic_slope(numeric)\",\n          \" Attribute11=sacrum_angle(numeric)\"\n        ],\n        \"semantic_type\": \"\",\n        \"description\": \"\"\n      }\n    }\n  ]\n}"
            }
          },
          "metadata": {},
          "execution_count": 5
        }
      ]
    },
    {
      "cell_type": "code",
      "source": [
        "# Lets check the unique classes in the spine\n",
        "print(df.Class_att.unique())"
      ],
      "metadata": {
        "colab": {
          "base_uri": "https://localhost:8080/"
        },
        "id": "EJj-BH2R8kw_",
        "outputId": "8df05f3e-d3f1-4e71-eca1-b2a75a51ea4b"
      },
      "execution_count": 6,
      "outputs": [
        {
          "output_type": "stream",
          "name": "stdout",
          "text": [
            "['Abnormal' 'Normal']\n"
          ]
        }
      ]
    },
    {
      "cell_type": "code",
      "source": [
        "# We'll drop the unecesssary column unnamed\n",
        "df.drop(['Unnamed: 13'],axis=1,inplace=True)"
      ],
      "metadata": {
        "id": "ZRRzrKQA8t8-"
      },
      "execution_count": 7,
      "outputs": []
    },
    {
      "cell_type": "code",
      "source": [
        "# Let's assign specific numbers to the species\n",
        "df['Class_att'] = df['Class_att'].map({'Abnormal':0,'Normal':1})"
      ],
      "metadata": {
        "id": "zo0NHyG-82XV"
      },
      "execution_count": 8,
      "outputs": []
    },
    {
      "cell_type": "markdown",
      "source": [
        "### Step 2: Building the model"
      ],
      "metadata": {
        "id": "j_S0hU4e9gOw"
      }
    },
    {
      "cell_type": "code",
      "source": [
        "# Step 2: Building the model model\n",
        "# We’re going to predict the spine condition after looking at the other features\n",
        "# So, the input data will be all the other variables\n",
        "# Output would be just the diagnosis\n",
        "X = df.drop(columns=['Class_att']).values\n",
        "\n",
        "y = df['Class_att'].values"
      ],
      "metadata": {
        "id": "4-CmkDZz83DU"
      },
      "execution_count": 9,
      "outputs": []
    },
    {
      "cell_type": "code",
      "source": [
        "# Let's import train_test_split and proceed to split our dataset.\n",
        "from sklearn.model_selection import train_test_split\n",
        "\n",
        "X_train, X_test, y_train, y_test = train_test_split(X, y, test_size=0.30, random_state=42)"
      ],
      "metadata": {
        "id": "J_WKbTb_9j0S"
      },
      "execution_count": 10,
      "outputs": []
    },
    {
      "cell_type": "code",
      "source": [
        "# Let's scale our data\n",
        "from sklearn.preprocessing import StandardScaler\n",
        "\n",
        "scaler = StandardScaler()\n",
        "\n",
        "X_train = scaler.fit_transform(X_train)\n",
        "\n",
        "X_test = scaler.transform(X_test)"
      ],
      "metadata": {
        "id": "VaQENBot9mSR"
      },
      "execution_count": 11,
      "outputs": []
    },
    {
      "cell_type": "code",
      "source": [
        "# Converting from numpy arrays to torch tensor\n",
        "X_train = torch.FloatTensor(X_train)\n",
        "\n",
        "X_test = torch.FloatTensor(X_test)\n",
        "\n",
        "y_train = torch.LongTensor(y_train)\n",
        "\n",
        "y_test = torch.LongTensor(y_test)"
      ],
      "metadata": {
        "id": "eKS86JHM9oWP"
      },
      "execution_count": 12,
      "outputs": []
    },
    {
      "cell_type": "code",
      "source": [
        "# Let's now create our model\n",
        "from torch import nn, optim\n",
        "\n",
        "class Net(nn.Module):\n",
        "    def __init__(self, input_size, hidden_size, num_classes):\n",
        "        super(Net, self).__init__()\n",
        "        self.fc1 = nn.Linear(input_size, hidden_size)\n",
        "        self.relu = nn.ReLU()\n",
        "        self.fc2 = nn.Linear(hidden_size, num_classes)\n",
        "    def forward(self, x):\n",
        "        out = self.fc1(x)\n",
        "        out = self.relu(out)\n",
        "        out = self.fc2(out)\n",
        "        return out\n",
        "\n",
        "model = Net(input_size=12, hidden_size=24, num_classes=2)"
      ],
      "metadata": {
        "id": "uPPYS10W9vg3"
      },
      "execution_count": 13,
      "outputs": []
    },
    {
      "cell_type": "markdown",
      "source": [
        "### Step 3,4 & 5"
      ],
      "metadata": {
        "id": "dKQiCHuj90j3"
      }
    },
    {
      "cell_type": "code",
      "source": [
        "# Let's train our model\n",
        "# We use the nn.CrossEntropyLoss() function as the loss function.\n",
        "# We also use the SGD optimizer with a learning rate of 0.001 and a momentum of 0.9.\n",
        "# Let's define the loss using criterionn and optimizer\n",
        "criterion = nn.CrossEntropyLoss()\n",
        "\n",
        "optimizer = optim.SGD(model.parameters(), lr=0.01, momentum=0.9)\n",
        "\n",
        "# Training the model\n",
        "num_epochs = 1000\n",
        "\n",
        "loss_vals = []\n",
        "\n",
        "for epoch in range(num_epochs):\n",
        "    outputs = model(X_train)\n",
        "\n",
        "    # Let's clear out the gradients from the last step loss.backward()\n",
        "    optimizer.zero_grad()\n",
        "\n",
        "    # Step 3: Forward propagation\n",
        "    outputs = model(X_train)\n",
        "\n",
        "    # Step 4: Loss computation\n",
        "    loss = criterion(outputs, y_train)\n",
        "\n",
        "    # Step 5: Backward propagation to calculate gradients and optimization\n",
        "    loss.backward()\n",
        "\n",
        "    loss_vals.append(loss.detach().numpy().item())\n",
        "\n",
        "    # Updating the weights\n",
        "    optimizer.step()\n",
        "\n",
        "    if (epoch + 1) % 10 == 0:\n",
        "        print(f'Epoch [{epoch+1}/{num_epochs}], Loss: {loss.item():.4f}')"
      ],
      "metadata": {
        "colab": {
          "base_uri": "https://localhost:8080/"
        },
        "id": "qUsuvViz9wPJ",
        "outputId": "65bdb053-cc24-43f6-903e-dd50c5cf9916"
      },
      "execution_count": 14,
      "outputs": [
        {
          "output_type": "stream",
          "name": "stdout",
          "text": [
            "Epoch [10/1000], Loss: 0.6411\n",
            "Epoch [20/1000], Loss: 0.5822\n",
            "Epoch [30/1000], Loss: 0.5430\n",
            "Epoch [40/1000], Loss: 0.5089\n",
            "Epoch [50/1000], Loss: 0.4846\n",
            "Epoch [60/1000], Loss: 0.4661\n",
            "Epoch [70/1000], Loss: 0.4500\n",
            "Epoch [80/1000], Loss: 0.4352\n",
            "Epoch [90/1000], Loss: 0.4214\n",
            "Epoch [100/1000], Loss: 0.4084\n",
            "Epoch [110/1000], Loss: 0.3963\n",
            "Epoch [120/1000], Loss: 0.3848\n",
            "Epoch [130/1000], Loss: 0.3739\n",
            "Epoch [140/1000], Loss: 0.3635\n",
            "Epoch [150/1000], Loss: 0.3534\n",
            "Epoch [160/1000], Loss: 0.3437\n",
            "Epoch [170/1000], Loss: 0.3345\n",
            "Epoch [180/1000], Loss: 0.3258\n",
            "Epoch [190/1000], Loss: 0.3175\n",
            "Epoch [200/1000], Loss: 0.3096\n",
            "Epoch [210/1000], Loss: 0.3020\n",
            "Epoch [220/1000], Loss: 0.2948\n",
            "Epoch [230/1000], Loss: 0.2881\n",
            "Epoch [240/1000], Loss: 0.2817\n",
            "Epoch [250/1000], Loss: 0.2755\n",
            "Epoch [260/1000], Loss: 0.2694\n",
            "Epoch [270/1000], Loss: 0.2635\n",
            "Epoch [280/1000], Loss: 0.2579\n",
            "Epoch [290/1000], Loss: 0.2526\n",
            "Epoch [300/1000], Loss: 0.2477\n",
            "Epoch [310/1000], Loss: 0.2430\n",
            "Epoch [320/1000], Loss: 0.2385\n",
            "Epoch [330/1000], Loss: 0.2341\n",
            "Epoch [340/1000], Loss: 0.2298\n",
            "Epoch [350/1000], Loss: 0.2256\n",
            "Epoch [360/1000], Loss: 0.2216\n",
            "Epoch [370/1000], Loss: 0.2178\n",
            "Epoch [380/1000], Loss: 0.2143\n",
            "Epoch [390/1000], Loss: 0.2109\n",
            "Epoch [400/1000], Loss: 0.2077\n",
            "Epoch [410/1000], Loss: 0.2046\n",
            "Epoch [420/1000], Loss: 0.2017\n",
            "Epoch [430/1000], Loss: 0.1988\n",
            "Epoch [440/1000], Loss: 0.1960\n",
            "Epoch [450/1000], Loss: 0.1933\n",
            "Epoch [460/1000], Loss: 0.1906\n",
            "Epoch [470/1000], Loss: 0.1879\n",
            "Epoch [480/1000], Loss: 0.1853\n",
            "Epoch [490/1000], Loss: 0.1828\n",
            "Epoch [500/1000], Loss: 0.1803\n",
            "Epoch [510/1000], Loss: 0.1780\n",
            "Epoch [520/1000], Loss: 0.1757\n",
            "Epoch [530/1000], Loss: 0.1735\n",
            "Epoch [540/1000], Loss: 0.1713\n",
            "Epoch [550/1000], Loss: 0.1692\n",
            "Epoch [560/1000], Loss: 0.1672\n",
            "Epoch [570/1000], Loss: 0.1652\n",
            "Epoch [580/1000], Loss: 0.1633\n",
            "Epoch [590/1000], Loss: 0.1614\n",
            "Epoch [600/1000], Loss: 0.1595\n",
            "Epoch [610/1000], Loss: 0.1577\n",
            "Epoch [620/1000], Loss: 0.1559\n",
            "Epoch [630/1000], Loss: 0.1542\n",
            "Epoch [640/1000], Loss: 0.1525\n",
            "Epoch [650/1000], Loss: 0.1509\n",
            "Epoch [660/1000], Loss: 0.1492\n",
            "Epoch [670/1000], Loss: 0.1476\n",
            "Epoch [680/1000], Loss: 0.1461\n",
            "Epoch [690/1000], Loss: 0.1445\n",
            "Epoch [700/1000], Loss: 0.1429\n",
            "Epoch [710/1000], Loss: 0.1414\n",
            "Epoch [720/1000], Loss: 0.1399\n",
            "Epoch [730/1000], Loss: 0.1384\n",
            "Epoch [740/1000], Loss: 0.1369\n",
            "Epoch [750/1000], Loss: 0.1355\n",
            "Epoch [760/1000], Loss: 0.1340\n",
            "Epoch [770/1000], Loss: 0.1326\n",
            "Epoch [780/1000], Loss: 0.1312\n",
            "Epoch [790/1000], Loss: 0.1298\n",
            "Epoch [800/1000], Loss: 0.1285\n",
            "Epoch [810/1000], Loss: 0.1272\n",
            "Epoch [820/1000], Loss: 0.1259\n",
            "Epoch [830/1000], Loss: 0.1246\n",
            "Epoch [840/1000], Loss: 0.1234\n",
            "Epoch [850/1000], Loss: 0.1222\n",
            "Epoch [860/1000], Loss: 0.1209\n",
            "Epoch [870/1000], Loss: 0.1197\n",
            "Epoch [880/1000], Loss: 0.1185\n",
            "Epoch [890/1000], Loss: 0.1174\n",
            "Epoch [900/1000], Loss: 0.1162\n",
            "Epoch [910/1000], Loss: 0.1150\n",
            "Epoch [920/1000], Loss: 0.1139\n",
            "Epoch [930/1000], Loss: 0.1128\n",
            "Epoch [940/1000], Loss: 0.1117\n",
            "Epoch [950/1000], Loss: 0.1106\n",
            "Epoch [960/1000], Loss: 0.1096\n",
            "Epoch [970/1000], Loss: 0.1085\n",
            "Epoch [980/1000], Loss: 0.1075\n",
            "Epoch [990/1000], Loss: 0.1065\n",
            "Epoch [1000/1000], Loss: 0.1055\n"
          ]
        }
      ]
    },
    {
      "cell_type": "code",
      "source": [
        "# Let's plot our loss with seaborn\n",
        "import seaborn as sns\n",
        "\n",
        "sns.set_style('darkgrid')\n",
        "\n",
        "indexes = list(range(len(loss_vals)))\n",
        "\n",
        "sns.lineplot(x = indexes, y = loss_vals)\n",
        "\n",
        "plt.xlabel('Epoch')\n",
        "\n",
        "plt.ylabel('Loss')\n",
        "\n",
        "plt.title('Loss against epochs')\n",
        "\n",
        "plt.show()"
      ],
      "metadata": {
        "colab": {
          "base_uri": "https://localhost:8080/",
          "height": 472
        },
        "id": "J9TNljlT958n",
        "outputId": "d8be77e3-2f9a-4ef3-c44f-0cdb834cefdc"
      },
      "execution_count": 15,
      "outputs": [
        {
          "output_type": "display_data",
          "data": {
            "text/plain": [
              "<Figure size 640x480 with 1 Axes>"
            ],
            "image/png": "[encoded data removed]"
          },
          "metadata": {}
        }
      ]
    },
    {
      "cell_type": "code",
      "source": [
        "# Finally, we'll calculate the accuracy of our model.\n",
        "# Let's import the necessary libraries for this task.\n",
        "from sklearn.metrics import accuracy_score\n",
        "\n",
        "with torch.no_grad():\n",
        "    outputs = model(X_test)\n",
        "    _, predicted = torch.max(outputs.data, 1)\n",
        "\n",
        "    accuracy = accuracy_score(y_test, predicted)\n",
        "\n",
        "    print(f'Accuracy: {100 * accuracy:.2f}%')"
      ],
      "metadata": {
        "colab": {
          "base_uri": "https://localhost:8080/"
        },
        "id": "qL3FjYJV9_8_",
        "outputId": "680de689-a386-4243-9cc5-59ca8dbc98f6"
      },
      "execution_count": 16,
      "outputs": [
        {
          "output_type": "stream",
          "name": "stdout",
          "text": [
            "Accuracy: 81.72%\n"
          ]
        }
      ]
    },
    {
      "cell_type": "markdown",
      "source": [
        "### Model evaluation"
      ],
      "metadata": {
        "id": "xm_-RNJw-MC3"
      }
    },
    {
      "cell_type": "code",
      "source": [
        "# Convert the input to a torch tensor\n",
        "new_data = torch.FloatTensor([[56.12492019, 23.64048856, 38.32974793, 26.47443163, 121.456011, 1.653204816, 0.85687869, 13.6686, 12.57, 17.12951, -16.630363, 27.1902 ]])"
      ],
      "metadata": {
        "id": "piI6ym-x-TV5"
      },
      "execution_count": 17,
      "outputs": []
    },
    {
      "cell_type": "code",
      "source": [
        "# Standardize the new data using the same scaler used for training\n",
        "new_data_standardized = torch.FloatTensor(scaler.transform(new_data.numpy()))"
      ],
      "metadata": {
        "id": "zr_lArmi-aWN"
      },
      "execution_count": 18,
      "outputs": []
    },
    {
      "cell_type": "code",
      "source": [
        "# Let's make an inference with the trained model\n",
        "with torch.no_grad():\n",
        "\n",
        "    model.eval()\n",
        "    predicted_output = model(new_data_standardized)\n",
        "    _, predicted_class = torch.max(predicted_output, 1)\n",
        "\n",
        "    class_index_to_condition = {0: 'Abnormal', 1: 'Normal'}\n",
        "\n",
        "    # Use class_index_to_condition to get predicted_species\n",
        "    predicted_species = class_index_to_condition[predicted_class.item()]\n",
        "\n",
        "print(f'Predicted class: {predicted_class.item()}')\n",
        "\n",
        "print(f'Predicted condition: {predicted_species}')"
      ],
      "metadata": {
        "colab": {
          "base_uri": "https://localhost:8080/"
        },
        "id": "yTZtINJB-rV5",
        "outputId": "06921a31-c315-4820-fef1-5ef96590f000"
      },
      "execution_count": 20,
      "outputs": [
        {
          "output_type": "stream",
          "name": "stdout",
          "text": [
            "Predicted class: 0\n",
            "Predicted condition: Abnormal\n"
          ]
        }
      ]
    }
  ]
}